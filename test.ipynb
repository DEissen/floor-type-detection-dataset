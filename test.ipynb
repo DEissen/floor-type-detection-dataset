{
 "cells": [
  {
   "cell_type": "code",
   "execution_count": null,
   "metadata": {},
   "outputs": [],
   "source": [
    "# imports\n",
    "import os\n",
    "import gin\n",
    "import shutil\n",
    "\n",
    "import numpy as np\n",
    "import matplotlib.pyplot as plt\n",
    "import cv2\n",
    "import glob\n",
    "import os\n",
    "import pandas as pd"
   ]
  },
  {
   "cell_type": "code",
   "execution_count": null,
   "metadata": {},
   "outputs": [],
   "source": [
    "# code to get overview of the number of samples and the label for each prepared measurement in the /results dir\n",
    "file_dir = r\"/home/eissen/repo_dataset\"\n",
    "result_path = os.path.join(file_dir, \"results\")\n",
    "\n",
    "mapping_filename = \"label_mapping.json\"\n",
    "\n",
    "for root, dirs, files in os.walk(result_path):\n",
    "    for dir in dirs:\n",
    "        filenames_labels_array = pd.read_csv(os.path.join(\n",
    "            root, dir, \"labels.csv\"), sep=\";\", header=0).to_numpy()\n",
    "        print(f\"{dir}:\\t{len(filenames_labels_array)} {filenames_labels_array[0,1]}\")\n",
    "    break"
   ]
  }
 ],
 "metadata": {
  "kernelspec": {
   "display_name": "Python 3",
   "language": "python",
   "name": "python3"
  },
  "language_info": {
   "codemirror_mode": {
    "name": "ipython",
    "version": 3
   },
   "file_extension": ".py",
   "mimetype": "text/x-python",
   "name": "python",
   "nbconvert_exporter": "python",
   "pygments_lexer": "ipython3",
   "version": "3.11.5"
  }
 },
 "nbformat": 4,
 "nbformat_minor": 2
}
