{
 "cells": [
  {
   "cell_type": "code",
   "execution_count": null,
   "metadata": {},
   "outputs": [],
   "source": [
    "# imports\n",
    "import os\n",
    "import gin\n",
    "import shutil\n",
    "\n",
    "import numpy as np\n",
    "import matplotlib.pyplot as plt\n",
    "import cv2\n",
    "import glob\n",
    "import os\n",
    "\n",
    "from defisheye import Defisheye, defisheyeapp"
   ]
  },
  {
   "cell_type": "code",
   "execution_count": null,
   "metadata": {},
   "outputs": [],
   "source": [
    "measurement_path = \"./temp - Kopie\"\n",
    "\n",
    "# List of all cams available:\n",
    "# 'BellyCamLeft', 'BellyCamRight' 'ChinCamLeft', 'ChinCamRight',\n",
    "# 'HeadCamLeft', 'HeadCamRight', 'LeftCamLeft', 'LeftCamRight',\n",
    "# 'RightCamLeft', 'RightCamRight'\n",
    "sensor = \"BellyCamRight\"\n",
    "\n",
    "testfile = \"15_03_27_758.jpg\""
   ]
  },
  {
   "cell_type": "code",
   "execution_count": null,
   "metadata": {},
   "outputs": [],
   "source": [
    "# nach ersten Tests nicht so toll\n",
    "\n",
    "from defisheye import Defisheye\n",
    "\n",
    "dtype = 'equalarea' # linear, equalarea, orthographic, stereographic\n",
    "format = 'fullframe' # circular, fullframe\n",
    "fov = 220 #BellyCamRight = 220\n",
    "pfov = 152 #BellyCamRight = 152\n",
    "\n",
    "img = os.path.join(measurement_path, sensor, testfile)\n",
    "img_out = f\"./out/example_{dtype}_{format}_{pfov}_{fov}.jpg\"\n",
    "\n",
    "obj = Defisheye(img, dtype=dtype, format=format, fov=fov, pfov=pfov)\n",
    "\n",
    "# To save image locally \n",
    "obj.convert(outfile=img_out)\n",
    "\n",
    "# To use the converted image in memory\n",
    "\n",
    "new_image = obj.convert()\n",
    "show_image(f\"./out/example_{dtype}_{format}_{pfov}_{fov}.jpg\")"
   ]
  },
  {
   "cell_type": "code",
   "execution_count": null,
   "metadata": {},
   "outputs": [],
   "source": [
    "def show_image(path):\n",
    "    fig = plt.figure(figsize=(20, 13))\n",
    "    img1 = cv2.imread(path)\n",
    "    plt.imshow(img1)\n",
    "    plt.show()"
   ]
  },
  {
   "cell_type": "code",
   "execution_count": null,
   "metadata": {},
   "outputs": [],
   "source": [
    "show_image(os.path.join(measurement_path, sensor, testfile))\n",
    "show_image(f\"./out/example_{dtype}_{format}_{pfov}_{fov}.jpg\")"
   ]
  }
 ],
 "metadata": {
  "kernelspec": {
   "display_name": "Python 3",
   "language": "python",
   "name": "python3"
  },
  "language_info": {
   "codemirror_mode": {
    "name": "ipython",
    "version": 3
   },
   "file_extension": ".py",
   "mimetype": "text/x-python",
   "name": "python",
   "nbconvert_exporter": "python",
   "pygments_lexer": "ipython3",
   "version": "3.9.7"
  }
 },
 "nbformat": 4,
 "nbformat_minor": 2
}
